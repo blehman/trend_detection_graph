{
 "cells": [
  {
   "cell_type": "markdown",
   "metadata": {},
   "source": [
    "### Github\n",
    "Clone the repo.\n",
    "<pre>\n",
    "$ git clone git@github.com:blehman/trend_detection_graph.git \n",
    "</pre>"
   ]
  },
  {
   "cell_type": "markdown",
   "metadata": {},
   "source": [
    "### PYTHONPATH\n",
    "Make sure that `trend_detection_graph/src` is in the path. "
   ]
  },
  {
   "cell_type": "code",
   "execution_count": null,
   "metadata": {
    "collapsed": false
   },
   "outputs": [],
   "source": [
    "!echo $PYTHONPATH"
   ]
  },
  {
   "cell_type": "markdown",
   "metadata": {},
   "source": [
    "Otherwise, run the following from the commandline (same shell must run the IPython Notebook):\n",
    "<pre>\n",
    "$ cd trend_detection_graph/src\n",
    "$ PYTHONPATH=`pwd`:$PYTHONPATH\n",
    "$ export PYTHONPATH\n",
    "</pre>"
   ]
  },
  {
   "cell_type": "markdown",
   "metadata": {},
   "source": [
    "### Site-Packages for Path\n",
    "Another altnerative for getting the path correct is to simply place a `.pth` file in your enviroment's site-packages. Each line should be a new directory."
   ]
  },
  {
   "cell_type": "markdown",
   "metadata": {},
   "source": [
    "### Import Chart Builder\n"
   ]
  },
  {
   "cell_type": "code",
   "execution_count": 1,
   "metadata": {
    "collapsed": false
   },
   "outputs": [
    {
     "name": "stdout",
     "output_type": "stream",
     "text": [
      "._setup_dirs.py\n",
      ".git\n",
      ".ipynb_checkpoints\n",
      "__init__.py\n",
      "img\n",
      "log\n",
      "log20161010T050322.log\n",
      "log20161010T050618.log\n",
      "log20161010T050722.log\n",
      "log20161010T051543.log\n",
      "log20161010T051703.log\n",
      "README.md\n",
      "src\n",
      "tye_chart_notebook.ipynb\n"
     ]
    },
    {
     "name": "stderr",
     "output_type": "stream",
     "text": [
      "/Users/blehman/anaconda/envs/tye_chart_env/lib/python3.5/site-packages/IPython/html.py:14: ShimWarning: The `IPython.html` package has been deprecated. You should import from `notebook` instead. `IPython.html.widgets` has moved to `ipywidgets`.\n",
      "  \"`IPython.html.widgets` has moved to `ipywidgets`.\", ShimWarning)\n"
     ]
    }
   ],
   "source": [
    "import ipython_module as blehmanade \n",
    "import pandas as pd"
   ]
  },
  {
   "cell_type": "code",
   "execution_count": 2,
   "metadata": {
    "collapsed": false
   },
   "outputs": [
    {
     "data": {
      "text/html": [
       "<div>\n",
       "<table border=\"1\" class=\"dataframe\">\n",
       "  <thead>\n",
       "    <tr style=\"text-align: right;\">\n",
       "      <th></th>\n",
       "      <th>date</th>\n",
       "      <th>count</th>\n",
       "      <th>eta</th>\n",
       "    </tr>\n",
       "  </thead>\n",
       "  <tbody>\n",
       "    <tr>\n",
       "      <th>0</th>\n",
       "      <td>2014-08-24 00:00:00</td>\n",
       "      <td>76.0</td>\n",
       "      <td>0.0</td>\n",
       "    </tr>\n",
       "    <tr>\n",
       "      <th>1</th>\n",
       "      <td>2014-08-24 02:00:00</td>\n",
       "      <td>91.0</td>\n",
       "      <td>0.0</td>\n",
       "    </tr>\n",
       "    <tr>\n",
       "      <th>2</th>\n",
       "      <td>2014-08-24 04:00:00</td>\n",
       "      <td>69.0</td>\n",
       "      <td>0.0</td>\n",
       "    </tr>\n",
       "    <tr>\n",
       "      <th>3</th>\n",
       "      <td>2014-08-24 06:00:00</td>\n",
       "      <td>76.0</td>\n",
       "      <td>0.0</td>\n",
       "    </tr>\n",
       "    <tr>\n",
       "      <th>4</th>\n",
       "      <td>2014-08-24 08:00:00</td>\n",
       "      <td>39.0</td>\n",
       "      <td>0.0</td>\n",
       "    </tr>\n",
       "  </tbody>\n",
       "</table>\n",
       "</div>"
      ],
      "text/plain": [
       "                  date  count  eta\n",
       "0  2014-08-24 00:00:00   76.0  0.0\n",
       "1  2014-08-24 02:00:00   91.0  0.0\n",
       "2  2014-08-24 04:00:00   69.0  0.0\n",
       "3  2014-08-24 06:00:00   76.0  0.0\n",
       "4  2014-08-24 08:00:00   39.0  0.0"
      ]
     },
     "execution_count": 2,
     "metadata": {},
     "output_type": "execute_result"
    }
   ],
   "source": [
    "df = pd.DataFrame.from_csv('./src/tye_chart/data/scotus_analyzed_WeightedDataTemplates.csv',sep=',',index_col=None)\n",
    "df.head()"
   ]
  },
  {
   "cell_type": "code",
   "execution_count": 6,
   "metadata": {
    "collapsed": false
   },
   "outputs": [
    {
     "data": {
      "application/javascript": [
       "require.config({\n",
       "    paths: {\n",
       "        d3: '//d3js.org/d3.v4.min.js'\n",
       "    }\n",
       "});"
      ],
      "text/plain": [
       "<IPython.core.display.Javascript object>"
      ]
     },
     "metadata": {},
     "output_type": "display_data"
    }
   ],
   "source": [
    "%%javascript\n",
    "require.config({\n",
    "    paths: {\n",
    "        d3: '//d3js.org/d3.v4.min.js'\n",
    "    }\n",
    "});"
   ]
  },
  {
   "cell_type": "code",
   "execution_count": 5,
   "metadata": {
    "collapsed": false
   },
   "outputs": [
    {
     "data": {
      "text/html": [
       "<!DOCTYPE html>\n",
       "<html>\n",
       "\n",
       "  <head>\n",
       "    <meta charset=\"UTF-8\">\n",
       "    <title>Tye Chart</title>\n",
       "    <!-- D3 -->\n",
       "    <!--<script src=\"https://d3js.org/d3.v4.js\"></script>-->\n",
       "    <!--Graph -->\n",
       "    <script src=\"src/tye_chart/js/gradient_line.js\"></script>\n",
       "    <script src=\"src/tye_chart/js/hline_slider.js\"></script>\n",
       "    <!-- File Saver-->\n",
       "    <script src=\"src/tye_chart/js/filesaver.js\"></script>\n",
       "    <!-- CSS -->\n",
       "    <link href=\"src/tye_chart/css/style.css\" type=\"text/css\" rel=\"stylesheet\">\n",
       "  </head>\n",
       "\n",
       "  <body>\n",
       "    <!-- Buttons -->\n",
       "    <input id=\"save\"   type=\"image\" title=\"download dates\" src=\"src/tye_chart/img/download-icon.png\" alt=\"download dates\" width=40px>\n",
       "    <!-- GRAPH -->\n",
       "    <script>\n",
       "      var x = [1,2]\n",
       "      console.log(d3.max(x))\n",
       "    </script>\n",
       "    <script>\n",
       "      <!-- GET D3-->\n",
       "      function load_lib(url, callback){\n",
       "        var s = document.createElement('script');\n",
       "        s.src = url;\n",
       "        s.async = true;\n",
       "        s.onreadystatechange = s.onload = callback;\n",
       "        s.onerror = function(){console.warn(\"failed to load library \" + url);};\n",
       "        document.getElementsByTagName(\"head\")[0].appendChild(s);\n",
       "      }\n",
       "      if ( typeof(d3) !== \"undefined\" ){\n",
       "          console.log('d3 is defined');\n",
       "          graph_1();\n",
       "      }else if(typeof define === \"function\" && define.amd){\n",
       "        console.log('trying d3 with require');\n",
       "        require.config({paths: {d3: \"/nbextensions/d3\"}});\n",
       "            console.log('trying /nbextensions/d3');\n",
       "\n",
       "            require([\"d3\"], function(d3){\n",
       "              window.d3 = d3;\n",
       "              console.log('loaded d3 with require');\n",
       "              graph_();\n",
       "        });\n",
       "      }else{\n",
       "          consle.log('trying to load from load_lib');\n",
       "          load_lib(\"//d3js.org/d3.v4.min.js\", ());\n",
       "      }\n",
       "    </script>\n",
       "    <script src=\"src/tye_chart/js/app.tpl.js\"></script>\n",
       "  </body>\n",
       "\n",
       "</html>\n"
      ],
      "text/plain": [
       "<IPython.core.display.HTML object>"
      ]
     },
     "metadata": {},
     "output_type": "display_data"
    }
   ],
   "source": [
    "blehmanade.build_tye_chart(df.to_json(orient='records'),1)"
   ]
  },
  {
   "cell_type": "code",
   "execution_count": null,
   "metadata": {
    "collapsed": true
   },
   "outputs": [],
   "source": []
  }
 ],
 "metadata": {
  "anaconda-cloud": {},
  "kernelspec": {
   "display_name": "Python [conda env:tye_chart_env]",
   "language": "python",
   "name": "conda-env-tye_chart_env-py"
  },
  "language_info": {
   "codemirror_mode": {
    "name": "ipython",
    "version": 3
   },
   "file_extension": ".py",
   "mimetype": "text/x-python",
   "name": "python",
   "nbconvert_exporter": "python",
   "pygments_lexer": "ipython3",
   "version": "3.5.0"
  }
 },
 "nbformat": 4,
 "nbformat_minor": 0
}
